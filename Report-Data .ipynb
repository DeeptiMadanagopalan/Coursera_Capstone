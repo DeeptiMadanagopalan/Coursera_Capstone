{
    "cells": [
        {
            "cell_type": "markdown",
            "metadata": {
                "collapsed": true
            },
            "source": "<H2> <b> Data Description </b> </H2>\nThere are two different type of data required for this project. First, it is necessary to get information on the different regions of Toronto. The second type of data would be the type of shops and services in each region. These data types are discussed below.\n<H4><b> Regions of Toronto  </b></H4>\nFirst, the different boroughs in Toronto must be recognized based on the postal code. This information will be obtained from the Wikipedia page \u2018List of postal codes of Canada: M\u2019 (https://en.wikipedia.org/wiki/List_of_postal_codes_of_Canada:_M).  The Wikipedia page will be read into a pandas data frame and will contain the Postal Code, Borough, and the Neighborhood information. \nIt is also necessary to provide the latitude and longitude location for each postal code. Hence, location data is obtained from the csv file: \u2018http://cocl.us/Geospatial_data\u2019. \n<H4><b> Shops and Services Information  </b></H4>\nFoursquare is used to get location data of the different shops and services present. The data from foursquare will include the name of the shop/service, the type of shop and the latitude and longitude of the shop. This will allows for comparison with the regions of Toronto data and hence divide the shops based on each region."
        },
        {
            "cell_type": "code",
            "execution_count": null,
            "metadata": {},
            "outputs": [],
            "source": ""
        }
    ],
    "metadata": {
        "kernelspec": {
            "display_name": "Python 3.7",
            "language": "python",
            "name": "python3"
        },
        "language_info": {
            "codemirror_mode": {
                "name": "ipython",
                "version": 3
            },
            "file_extension": ".py",
            "mimetype": "text/x-python",
            "name": "python",
            "nbconvert_exporter": "python",
            "pygments_lexer": "ipython3",
            "version": "3.7.9"
        }
    },
    "nbformat": 4,
    "nbformat_minor": 1
}