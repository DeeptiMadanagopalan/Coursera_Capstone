{
    "cells": [
        {
            "cell_type": "markdown",
            "metadata": {
                "collapsed": true
            },
            "source": "<H2> <b> Introduction </b> </H2>\nIn this project, the main goal is to analyze the different shops and services that are available in Toronto, Canada, to get an insight of the type of services that each area requires. This will be done using the least common type of shop or service in each region of Toronto using data from Foursquare, Geolocator and Wikipedia. \n<H4><b> Background </b></H4>\nMost people, especially in urban area like cities depend on different types of shops to buy necessary products. The availability of different types of shops that sell these products is therefore very important for the resident of a location. Some shops/services might be more readily available than others. Finding the least common type of shop can help determine the demand in the location. The demand for the type of shop/service in a locale can be found by analyzing the location data from Foursquare to find the least common types. Using this information, the most profitable shop in each area of Toronto can be determined and a contractor would be able use this information to start a profitable business. \n<H4><b> Stakeholders </b></H4>\nSome of the stakeholders for this project are discussed below.\n<ul>\n    <li>A contractor/Business \u2013 They would be interested in finding the most profitable business in a location. </li>\n    <li> Residents of the location- They would be interested in improving the accessibility of the particular type.</li>\n</ul>"
        },
        {
            "cell_type": "markdown",
            "metadata": {},
            "source": "\n"
        },
        {
            "cell_type": "code",
            "execution_count": null,
            "metadata": {},
            "outputs": [],
            "source": ""
        }
    ],
    "metadata": {
        "kernelspec": {
            "display_name": "Python 3.7",
            "language": "python",
            "name": "python3"
        },
        "language_info": {
            "codemirror_mode": {
                "name": "ipython",
                "version": 3
            },
            "file_extension": ".py",
            "mimetype": "text/x-python",
            "name": "python",
            "nbconvert_exporter": "python",
            "pygments_lexer": "ipython3",
            "version": "3.7.9"
        }
    },
    "nbformat": 4,
    "nbformat_minor": 1
}